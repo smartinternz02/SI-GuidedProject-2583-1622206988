{
 "cells": [
  {
   "cell_type": "code",
   "execution_count": 1,
   "metadata": {},
   "outputs": [
    {
     "name": "stderr",
     "output_type": "stream",
     "text": [
      "Using TensorFlow backend.\n"
     ]
    }
   ],
   "source": [
    "\n",
    "import numpy as np\n",
    "import tensorflow \n",
    "from tensorflow.keras.models import Sequential \n",
    "from tensorflow.keras import layers \n",
    "\n",
    "from tensorflow.keras.layers import Dense,Flatten\n",
    "\n",
    "from tensorflow.keras.layers import Conv2D,MaxPooling2D \n",
    "from keras.preprocessing.image import ImageDataGenerator"
   ]
  },
  {
   "cell_type": "code",
   "execution_count": 2,
   "metadata": {},
   "outputs": [
    {
     "data": {
      "text/plain": [
       "'2.3.0'"
      ]
     },
     "execution_count": 2,
     "metadata": {},
     "output_type": "execute_result"
    }
   ],
   "source": [
    "tensorflow.__version__"
   ]
  },
  {
   "cell_type": "code",
   "execution_count": 3,
   "metadata": {},
   "outputs": [
    {
     "data": {
      "text/plain": [
       "'2.4.0'"
      ]
     },
     "execution_count": 3,
     "metadata": {},
     "output_type": "execute_result"
    }
   ],
   "source": [
    "tensorflow.keras.__version__"
   ]
  },
  {
   "cell_type": "markdown",
   "metadata": {},
   "source": [
    "# Image Data Agumentation"
   ]
  },
  {
   "cell_type": "code",
   "execution_count": 4,
   "metadata": {},
   "outputs": [],
   "source": [
    "train_datagen = ImageDataGenerator(rescale=1./255,shear_range=0.2,zoom_range=0.2,horizontal_flip=True)\n",
    "test_datagen=ImageDataGenerator(rescale=1./255)"
   ]
  },
  {
   "cell_type": "markdown",
   "metadata": {},
   "source": [
    "# Loading our data and performing data agumentation"
   ]
  },
  {
   "cell_type": "code",
   "execution_count": 5,
   "metadata": {},
   "outputs": [
    {
     "name": "stdout",
     "output_type": "stream",
     "text": [
      "Found 198 images belonging to 4 classes.\n",
      "Found 742 images belonging to 4 classes.\n"
     ]
    }
   ],
   "source": [
    "\n",
    "x_train = train_datagen.flow_from_directory(r\"C:\\Users\\HP\\Downloads\\Telegram Desktop\\dataset (2)\\dataset\\test_set\",target_size=(64, 64),batch_size=5,\n",
    "                                            color_mode='rgb',class_mode=\"categorical\")\n",
    "\n",
    "x_test = test_datagen.flow_from_directory(r\"C:\\Users\\HP\\Downloads\\Telegram Desktop\\dataset (2)\\dataset\\train_set\",target_size=(64, 64),batch_size=5,\n",
    "                                            color_mode='rgb',class_mode=\"categorical\")"
   ]
  },
  {
   "cell_type": "code",
   "execution_count": 6,
   "metadata": {},
   "outputs": [
    {
     "name": "stdout",
     "output_type": "stream",
     "text": [
      "{'Cyclone': 0, 'Earthquake': 1, 'Flood': 2, 'Wildfire': 3}\n"
     ]
    }
   ],
   "source": [
    "print(x_train.class_indices)"
   ]
  },
  {
   "cell_type": "code",
   "execution_count": 7,
   "metadata": {},
   "outputs": [
    {
     "name": "stdout",
     "output_type": "stream",
     "text": [
      "{'Cyclone': 0, 'Earthquake': 1, 'Flood': 2, 'Wildfire': 3}\n"
     ]
    }
   ],
   "source": [
    "print(x_test.class_indices)"
   ]
  },
  {
   "cell_type": "code",
   "execution_count": 8,
   "metadata": {},
   "outputs": [
    {
     "data": {
      "text/plain": [
       "Counter({0: 64, 1: 29, 2: 61, 3: 44})"
      ]
     },
     "execution_count": 8,
     "metadata": {},
     "output_type": "execute_result"
    }
   ],
   "source": [
    "from collections import Counter as c\n",
    "c(x_train .labels)"
   ]
  },
  {
   "cell_type": "markdown",
   "metadata": {},
   "source": [
    "# creating the model\n"
   ]
  },
  {
   "cell_type": "code",
   "execution_count": 9,
   "metadata": {},
   "outputs": [],
   "source": [
    "# Initializing the CNN\n",
    "classifier = Sequential()\n",
    "\n",
    "# First convolution layer and pooling\n",
    "classifier.add(Conv2D(32, (3, 3), input_shape=(64, 64, 3), activation='relu'))\n",
    "classifier.add(MaxPooling2D(pool_size=(2, 2)))\n",
    "# Second convolution layer and pooling\n",
    "classifier.add(Conv2D(32, (3, 3), activation='relu'))\n",
    "# input_shape is going to be the pooled feature maps from the previous convolution layer\n",
    "classifier.add(MaxPooling2D(pool_size=(2, 2)))\n",
    "\n",
    "# Flattening the layers\n",
    "classifier.add(Flatten())\n",
    "\n",
    "# Adding a fully connected layer\n",
    "classifier.add(Dense(units=128, activation='relu'))\n",
    "classifier.add(Dense(units=4, activation='softmax')) # softmax for more than 2\n"
   ]
  },
  {
   "cell_type": "code",
   "execution_count": 10,
   "metadata": {},
   "outputs": [
    {
     "name": "stdout",
     "output_type": "stream",
     "text": [
      "Model: \"sequential\"\n",
      "_________________________________________________________________\n",
      "Layer (type)                 Output Shape              Param #   \n",
      "=================================================================\n",
      "conv2d (Conv2D)              (None, 62, 62, 32)        896       \n",
      "_________________________________________________________________\n",
      "max_pooling2d (MaxPooling2D) (None, 31, 31, 32)        0         \n",
      "_________________________________________________________________\n",
      "conv2d_1 (Conv2D)            (None, 29, 29, 32)        9248      \n",
      "_________________________________________________________________\n",
      "max_pooling2d_1 (MaxPooling2 (None, 14, 14, 32)        0         \n",
      "_________________________________________________________________\n",
      "flatten (Flatten)            (None, 6272)              0         \n",
      "_________________________________________________________________\n",
      "dense (Dense)                (None, 128)               802944    \n",
      "_________________________________________________________________\n",
      "dense_1 (Dense)              (None, 4)                 516       \n",
      "=================================================================\n",
      "Total params: 813,604\n",
      "Trainable params: 813,604\n",
      "Non-trainable params: 0\n",
      "_________________________________________________________________\n"
     ]
    }
   ],
   "source": [
    "classifier.summary()"
   ]
  },
  {
   "cell_type": "markdown",
   "metadata": {},
   "source": [
    "# compiling the model"
   ]
  },
  {
   "cell_type": "code",
   "execution_count": 11,
   "metadata": {},
   "outputs": [],
   "source": [
    "classifier.compile(optimizer='adam', loss='categorical_crossentropy', metrics=['accuracy'])"
   ]
  },
  {
   "cell_type": "markdown",
   "metadata": {},
   "source": [
    "# fitting the model"
   ]
  },
  {
   "cell_type": "code",
   "execution_count": 12,
   "metadata": {},
   "outputs": [
    {
     "name": "stdout",
     "output_type": "stream",
     "text": [
      "WARNING:tensorflow:From <ipython-input-12-a2b5d9649b7f>:3: Model.fit_generator (from tensorflow.python.keras.engine.training) is deprecated and will be removed in a future version.\n",
      "Instructions for updating:\n",
      "Please use Model.fit, which supports generators.\n",
      "Epoch 1/20\n",
      "40/40 [==============================] - 84s 2s/step - loss: 1.4244 - accuracy: 0.3737 - val_loss: 1.3485 - val_accuracy: 0.2965\n",
      "Epoch 2/20\n",
      "40/40 [==============================] - 56s 1s/step - loss: 1.2438 - accuracy: 0.4798 - val_loss: 1.2851 - val_accuracy: 0.4380\n",
      "Epoch 3/20\n",
      "40/40 [==============================] - 53s 1s/step - loss: 1.0037 - accuracy: 0.6212 - val_loss: 1.0677 - val_accuracy: 0.5431\n",
      "Epoch 4/20\n",
      "40/40 [==============================] - 53s 1s/step - loss: 0.7968 - accuracy: 0.6970 - val_loss: 1.2366 - val_accuracy: 0.5350\n",
      "Epoch 5/20\n",
      "40/40 [==============================] - 54s 1s/step - loss: 0.7661 - accuracy: 0.6970 - val_loss: 1.3246 - val_accuracy: 0.4946\n",
      "Epoch 6/20\n",
      "40/40 [==============================] - 53s 1s/step - loss: 0.6685 - accuracy: 0.7626 - val_loss: 1.1668 - val_accuracy: 0.5863\n",
      "Epoch 7/20\n",
      "40/40 [==============================] - 53s 1s/step - loss: 0.5794 - accuracy: 0.7778 - val_loss: 1.1316 - val_accuracy: 0.5957\n",
      "Epoch 8/20\n",
      "40/40 [==============================] - 54s 1s/step - loss: 0.5784 - accuracy: 0.7727 - val_loss: 1.0350 - val_accuracy: 0.6469\n",
      "Epoch 9/20\n",
      "40/40 [==============================] - 52s 1s/step - loss: 0.5385 - accuracy: 0.8232 - val_loss: 0.9996 - val_accuracy: 0.6577\n",
      "Epoch 10/20\n",
      "40/40 [==============================] - 54s 1s/step - loss: 0.5508 - accuracy: 0.7980 - val_loss: 1.0671 - val_accuracy: 0.6388\n",
      "Epoch 11/20\n",
      "40/40 [==============================] - 54s 1s/step - loss: 0.4367 - accuracy: 0.8232 - val_loss: 0.8425 - val_accuracy: 0.7102\n",
      "Epoch 12/20\n",
      "40/40 [==============================] - 54s 1s/step - loss: 0.4363 - accuracy: 0.8636 - val_loss: 1.2850 - val_accuracy: 0.6375\n",
      "Epoch 13/20\n",
      "40/40 [==============================] - 54s 1s/step - loss: 0.4644 - accuracy: 0.8131 - val_loss: 1.5672 - val_accuracy: 0.5930\n",
      "Epoch 14/20\n",
      "40/40 [==============================] - 53s 1s/step - loss: 0.3404 - accuracy: 0.8838 - val_loss: 0.9761 - val_accuracy: 0.6833\n",
      "Epoch 15/20\n",
      "40/40 [==============================] - 53s 1s/step - loss: 0.2730 - accuracy: 0.9040 - val_loss: 0.8261 - val_accuracy: 0.7385\n",
      "Epoch 16/20\n",
      "40/40 [==============================] - 59s 1s/step - loss: 0.3118 - accuracy: 0.8687 - val_loss: 0.9083 - val_accuracy: 0.7156\n",
      "Epoch 17/20\n",
      "40/40 [==============================] - 53s 1s/step - loss: 0.2476 - accuracy: 0.9040 - val_loss: 1.0498 - val_accuracy: 0.7035\n",
      "Epoch 18/20\n",
      "40/40 [==============================] - 54s 1s/step - loss: 0.1717 - accuracy: 0.9444 - val_loss: 0.9122 - val_accuracy: 0.7372\n",
      "Epoch 19/20\n",
      "40/40 [==============================] - 54s 1s/step - loss: 0.2226 - accuracy: 0.9040 - val_loss: 1.1506 - val_accuracy: 0.7062\n",
      "Epoch 20/20\n",
      "40/40 [==============================] - 54s 1s/step - loss: 0.1536 - accuracy: 0.9495 - val_loss: 1.2696 - val_accuracy: 0.6968\n"
     ]
    },
    {
     "data": {
      "text/plain": [
       "<tensorflow.python.keras.callbacks.History at 0x21f1ae9ba58>"
      ]
     },
     "execution_count": 12,
     "metadata": {},
     "output_type": "execute_result"
    }
   ],
   "source": [
    " classifier.fit_generator(\n",
    "        generator=x_train,steps_per_epoch = len(x_train),\n",
    "        epochs=20, validation_data=x_test,validation_steps = len(x_test))"
   ]
  },
  {
   "cell_type": "markdown",
   "metadata": {},
   "source": [
    "# saving our model"
   ]
  },
  {
   "cell_type": "code",
   "execution_count": 14,
   "metadata": {},
   "outputs": [],
   "source": [
    "classifier.save('disaster.h5')"
   ]
  },
  {
   "cell_type": "code",
   "execution_count": 15,
   "metadata": {},
   "outputs": [],
   "source": [
    "model_json = classifier.to_json()\n",
    "with open(\"model-bw.json\", \"w\") as json_file:\n",
    "    json_file.write(model_json)"
   ]
  },
  {
   "cell_type": "markdown",
   "metadata": {},
   "source": [
    "# Predicting our results"
   ]
  },
  {
   "cell_type": "code",
   "execution_count": 16,
   "metadata": {},
   "outputs": [],
   "source": [
    "from tensorflow.keras.models import load_model\n",
    "from keras.preprocessing import image\n",
    "model = load_model(\"disaster.h5\")"
   ]
  },
  {
   "cell_type": "code",
   "execution_count": 17,
   "metadata": {},
   "outputs": [
    {
     "name": "stdout",
     "output_type": "stream",
     "text": [
      "WARNING:tensorflow:From <ipython-input-17-ca6001358494>:5: Sequential.predict_classes (from tensorflow.python.keras.engine.sequential) is deprecated and will be removed after 2021-01-01.\n",
      "Instructions for updating:\n",
      "Please use instead:* `np.argmax(model.predict(x), axis=-1)`,   if your model does multi-class classification   (e.g. if it uses a `softmax` last-layer activation).* `(model.predict(x) > 0.5).astype(\"int32\")`,   if your model does binary classification   (e.g. if it uses a `sigmoid` last-layer activation).\n"
     ]
    },
    {
     "data": {
      "text/plain": [
       "array([0], dtype=int64)"
      ]
     },
     "execution_count": 17,
     "metadata": {},
     "output_type": "execute_result"
    }
   ],
   "source": [
    "img = image.load_img(r\"E:\\geethanjaliexternship\\cyclone.jpg\",grayscale=False,\n",
    "                     target_size= (64,64))\n",
    "x = image.img_to_array(img)\n",
    "x = np.expand_dims(x,axis = 0)\n",
    "pred = model.predict_classes(x)\n",
    "pred"
   ]
  },
  {
   "cell_type": "code",
   "execution_count": 18,
   "metadata": {},
   "outputs": [
    {
     "data": {
      "text/plain": [
       "'Cyclone'"
      ]
     },
     "execution_count": 18,
     "metadata": {},
     "output_type": "execute_result"
    }
   ],
   "source": [
    "index=['Cyclone','Earthquake','Flood','Wildfire']\n",
    "result=str(index[pred[0]])\n",
    "result"
   ]
  },
  {
   "cell_type": "code",
   "execution_count": null,
   "metadata": {},
   "outputs": [],
   "source": []
  },
  {
   "cell_type": "code",
   "execution_count": null,
   "metadata": {},
   "outputs": [],
   "source": []
  },
  {
   "cell_type": "code",
   "execution_count": null,
   "metadata": {},
   "outputs": [],
   "source": []
  },
  {
   "cell_type": "code",
   "execution_count": null,
   "metadata": {},
   "outputs": [],
   "source": []
  },
  {
   "cell_type": "code",
   "execution_count": null,
   "metadata": {},
   "outputs": [],
   "source": []
  },
  {
   "cell_type": "code",
   "execution_count": null,
   "metadata": {},
   "outputs": [],
   "source": []
  },
  {
   "cell_type": "code",
   "execution_count": null,
   "metadata": {},
   "outputs": [],
   "source": []
  }
 ],
 "metadata": {
  "kernelspec": {
   "display_name": "Python 3",
   "language": "python",
   "name": "python3"
  },
  "language_info": {
   "codemirror_mode": {
    "name": "ipython",
    "version": 3
   },
   "file_extension": ".py",
   "mimetype": "text/x-python",
   "name": "python",
   "nbconvert_exporter": "python",
   "pygments_lexer": "ipython3",
   "version": "3.7.3"
  }
 },
 "nbformat": 4,
 "nbformat_minor": 2
}
